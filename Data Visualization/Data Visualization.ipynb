{
 "cells": [
  {
   "cell_type": "markdown",
   "metadata": {},
   "source": [
    "# Data Visualization\n",
    "Make great data visualizations. A great way to see the power of coding!"
   ]
  },
  {
   "cell_type": "markdown",
   "metadata": {},
   "source": [
    "![Data Visualization](https://imgur.com/2VmgDnF.png)\n",
    "<center>Ref: https://www.kaggle.com/alexisbcook/choosing-plot-types-and-custom-styles </center>"
   ]
  },
  {
   "cell_type": "markdown",
   "metadata": {
    "heading_collapsed": true
   },
   "source": [
    "## Hello, Seaborn\n",
    "Your first introduction to coding for data visualization."
   ]
  },
  {
   "cell_type": "markdown",
   "metadata": {
    "heading_collapsed": true,
    "hidden": true
   },
   "source": [
    "### Set up the notebook"
   ]
  },
  {
   "cell_type": "code",
   "execution_count": null,
   "metadata": {
    "hidden": true
   },
   "outputs": [],
   "source": [
    "import pandas as pd\n",
    "pd.plotting.register_matplotlib_converters()\n",
    "import matplotlib.pyplot as plt\n",
    "%matplotlib inline\n",
    "import seaborn as sns\n",
    "print(\"Setup Complete\")"
   ]
  },
  {
   "cell_type": "markdown",
   "metadata": {
    "heading_collapsed": true,
    "hidden": true
   },
   "source": [
    "### Load the data\n",
    "- begin by specifying the location (or filepath) where the dataset can be accessed, and then\n",
    "- use the filepath to load the contents of the dataset into the notebook.  "
   ]
  },
  {
   "cell_type": "markdown",
   "metadata": {
    "hidden": true
   },
   "source": [
    "![FIFA rankings](https://i.imgur.com/W0E7GjV.png)\n",
    "<center>Ref: https://www.kaggle.com/alexisbcook/hello-seaborn </center>"
   ]
  },
  {
   "cell_type": "code",
   "execution_count": null,
   "metadata": {
    "hidden": true
   },
   "outputs": [],
   "source": [
    "# Path of the file to read\n",
    "fifa_filepath = \"../input/fifa.csv\"\n",
    "\n",
    "# Read the file into a variable fifa_data\n",
    "fifa_data = pd.read_csv(fifa_filepath, index_col=\"Date\", parse_dates=True)"
   ]
  },
  {
   "cell_type": "markdown",
   "metadata": {
    "heading_collapsed": true,
    "hidden": true
   },
   "source": [
    "### Examine the data\n",
    "- begin with the variable containing the dataset (in this case, fifa_data), and then\n",
    "- follow it with ```.head()```."
   ]
  },
  {
   "cell_type": "code",
   "execution_count": null,
   "metadata": {
    "hidden": true
   },
   "outputs": [],
   "source": [
    "# Print the first 5 rows of the data\n",
    "fifa_data.head()\n",
    "\n",
    "# Print the last five rows of the data\n",
    "fifa_data.tail()"
   ]
  },
  {
   "cell_type": "markdown",
   "metadata": {
    "heading_collapsed": true,
    "hidden": true
   },
   "source": [
    "### Plot the data"
   ]
  },
  {
   "cell_type": "code",
   "execution_count": null,
   "metadata": {
    "hidden": true
   },
   "outputs": [],
   "source": [
    "# Set the width and height of the figure\n",
    "plt.figure(figsize=(16,6))\n",
    "\n",
    "# Line chart showing how FIFA rankings evolved over time \n",
    "sns.lineplot(data=fifa_data)"
   ]
  },
  {
   "cell_type": "markdown",
   "metadata": {
    "heading_collapsed": true
   },
   "source": [
    "## Line Charts\n",
    "Visualize trends over time."
   ]
  },
  {
   "cell_type": "markdown",
   "metadata": {
    "hidden": true
   },
   "source": [
    "### Plot the data"
   ]
  },
  {
   "cell_type": "code",
   "execution_count": null,
   "metadata": {
    "hidden": true
   },
   "outputs": [],
   "source": [
    "# Set the width and height of the figure\n",
    "plt.figure(figsize=(14,6))\n",
    "\n",
    "# Add title\n",
    "plt.title(\"Daily Global Streams of Popular Songs in 2017-2018\")\n",
    "\n",
    "# Line chart showing daily global streams of each song \n",
    "sns.lineplot(data=spotify_data)"
   ]
  },
  {
   "cell_type": "markdown",
   "metadata": {
    "hidden": true
   },
   "source": [
    "![Plot the data](https://www.kaggleusercontent.com/kf/37328170/eyJhbGciOiJkaXIiLCJlbmMiOiJBMTI4Q0JDLUhTMjU2In0..kSJFLZxCpxaZhS2opGIBcQ.1JXEWiY9x1c3R9AEWz5raadQMSD1pr4jhI0K0XSZddNbk6g1zx0tWMcV3Tlz042A5fLy0-NE6l_UB0gMG1DHBxdExk9-Leoxb1TCSG3nuvy-w9zeyWtdTa0UiV1ebVj1-UgKtcVOrC-hLtGp0NwPEbP3fhbpSsQiwo2lD9mSVyFEOBz6kHpiYq17VOSzhBRsRDE9VWN8YpWfnK8s-mOyKshhdFLzkdcNXeq2FxtMb9lGox5zO4nqzU0ydxChCejfaj3QJmBM2hAFKsFPIR9sQstQz1n4klaQZIqRU86aDOtbU7lY3OLPCn20vA4B2D6A9pTUvw63W2iHNrmLRGQQCm7SEn1cLKRzqruvS_ov5erQq4Ax1mJgZhhvEIjJCkzCA-_4s5ts590iJABYLBcqO677ge52hqLe0IBmE1Z9YrjbsYVJ0b9QyMZfLMPstTPvSX3gqKat31X3Hj8dibHnwLtsYG2ieYc17K_DqA_8oGqJfyihN16KGKruKgWKRLc6TVNW7S3CMwdXb5zx2ewi-o_0RlnOBklAULCAzfowQ5q5h6Q0XDFcStXZdxPKbYhZZTBetn-Icz-qZvSFYTDJEFdTqhzB13njNCsJYBmZDT4LV7Y5A6g4oLYfUt7ui44h8UD2RFVD1XU8-AibcDNeOw.3RrHDYmnyRDD-jUT9Gxz5Q/__results___files/__results___12_1.png)\n",
    "<center>Ref: https://www.kaggle.com/alexisbcook/line-charts </center>"
   ]
  },
  {
   "cell_type": "markdown",
   "metadata": {
    "hidden": true
   },
   "source": [
    "### Plot a subset of the data"
   ]
  },
  {
   "cell_type": "code",
   "execution_count": null,
   "metadata": {
    "hidden": true
   },
   "outputs": [],
   "source": [
    "# Set the width and height of the figure\n",
    "plt.figure(figsize=(14,6))\n",
    "\n",
    "# Add title\n",
    "plt.title(\"Daily Global Streams of Popular Songs in 2017-2018\")\n",
    "\n",
    "# Line chart showing daily global streams of 'Shape of You'\n",
    "sns.lineplot(data=spotify_data['Shape of You'], label=\"Shape of You\")\n",
    "\n",
    "# Line chart showing daily global streams of 'Despacito'\n",
    "sns.lineplot(data=spotify_data['Despacito'], label=\"Despacito\")\n",
    "\n",
    "# Add label for horizontal axis\n",
    "plt.xlabel(\"Date\")"
   ]
  },
  {
   "cell_type": "markdown",
   "metadata": {
    "hidden": true
   },
   "source": [
    "![Plot a subset of the data](https://www.kaggleusercontent.com/kf/37328170/eyJhbGciOiJkaXIiLCJlbmMiOiJBMTI4Q0JDLUhTMjU2In0..kSJFLZxCpxaZhS2opGIBcQ.1JXEWiY9x1c3R9AEWz5raadQMSD1pr4jhI0K0XSZddNbk6g1zx0tWMcV3Tlz042A5fLy0-NE6l_UB0gMG1DHBxdExk9-Leoxb1TCSG3nuvy-w9zeyWtdTa0UiV1ebVj1-UgKtcVOrC-hLtGp0NwPEbP3fhbpSsQiwo2lD9mSVyFEOBz6kHpiYq17VOSzhBRsRDE9VWN8YpWfnK8s-mOyKshhdFLzkdcNXeq2FxtMb9lGox5zO4nqzU0ydxChCejfaj3QJmBM2hAFKsFPIR9sQstQz1n4klaQZIqRU86aDOtbU7lY3OLPCn20vA4B2D6A9pTUvw63W2iHNrmLRGQQCm7SEn1cLKRzqruvS_ov5erQq4Ax1mJgZhhvEIjJCkzCA-_4s5ts590iJABYLBcqO677ge52hqLe0IBmE1Z9YrjbsYVJ0b9QyMZfLMPstTPvSX3gqKat31X3Hj8dibHnwLtsYG2ieYc17K_DqA_8oGqJfyihN16KGKruKgWKRLc6TVNW7S3CMwdXb5zx2ewi-o_0RlnOBklAULCAzfowQ5q5h6Q0XDFcStXZdxPKbYhZZTBetn-Icz-qZvSFYTDJEFdTqhzB13njNCsJYBmZDT4LV7Y5A6g4oLYfUt7ui44h8UD2RFVD1XU8-AibcDNeOw.3RrHDYmnyRDD-jUT9Gxz5Q/__results___files/__results___16_1.png)\n",
    "<center>Ref: https://www.kaggle.com/alexisbcook/line-charts </center>"
   ]
  },
  {
   "cell_type": "markdown",
   "metadata": {
    "heading_collapsed": true
   },
   "source": [
    "## Bar Charts and Heatmaps\n",
    "Use color or length to compare categories in a dataset."
   ]
  },
  {
   "cell_type": "markdown",
   "metadata": {
    "heading_collapsed": true,
    "hidden": true
   },
   "source": [
    "### Bar chart"
   ]
  },
  {
   "cell_type": "code",
   "execution_count": 1,
   "metadata": {
    "collapsed": true,
    "hidden": true
   },
   "outputs": [
    {
     "ename": "NameError",
     "evalue": "name 'plt' is not defined",
     "output_type": "error",
     "traceback": [
      "\u001b[1;31m---------------------------------------------------------------------------\u001b[0m",
      "\u001b[1;31mNameError\u001b[0m                                 Traceback (most recent call last)",
      "\u001b[1;32m<ipython-input-1-2614ff5b4696>\u001b[0m in \u001b[0;36m<module>\u001b[1;34m\u001b[0m\n\u001b[0;32m      1\u001b[0m \u001b[1;31m# Set the width and height of the figure\u001b[0m\u001b[1;33m\u001b[0m\u001b[1;33m\u001b[0m\u001b[1;33m\u001b[0m\u001b[0m\n\u001b[1;32m----> 2\u001b[1;33m \u001b[0mplt\u001b[0m\u001b[1;33m.\u001b[0m\u001b[0mfigure\u001b[0m\u001b[1;33m(\u001b[0m\u001b[0mfigsize\u001b[0m\u001b[1;33m=\u001b[0m\u001b[1;33m(\u001b[0m\u001b[1;36m10\u001b[0m\u001b[1;33m,\u001b[0m\u001b[1;36m6\u001b[0m\u001b[1;33m)\u001b[0m\u001b[1;33m)\u001b[0m\u001b[1;33m\u001b[0m\u001b[1;33m\u001b[0m\u001b[0m\n\u001b[0m\u001b[0;32m      3\u001b[0m \u001b[1;33m\u001b[0m\u001b[0m\n\u001b[0;32m      4\u001b[0m \u001b[1;31m# Add title\u001b[0m\u001b[1;33m\u001b[0m\u001b[1;33m\u001b[0m\u001b[1;33m\u001b[0m\u001b[0m\n\u001b[0;32m      5\u001b[0m \u001b[0mplt\u001b[0m\u001b[1;33m.\u001b[0m\u001b[0mtitle\u001b[0m\u001b[1;33m(\u001b[0m\u001b[1;34m\"Average Arrival Delay for Spirit Airlines Flights, by Month\"\u001b[0m\u001b[1;33m)\u001b[0m\u001b[1;33m\u001b[0m\u001b[1;33m\u001b[0m\u001b[0m\n",
      "\u001b[1;31mNameError\u001b[0m: name 'plt' is not defined"
     ]
    }
   ],
   "source": [
    "# Set the width and height of the figure\n",
    "plt.figure(figsize=(10,6))\n",
    "\n",
    "# Add title\n",
    "plt.title(\"Average Arrival Delay for Spirit Airlines Flights, by Month\")\n",
    "\n",
    "# Bar chart showing average arrival delay for Spirit Airlines flights by month\n",
    "sns.barplot(x=flight_data.index, y=flight_data['NK'])\n",
    "\n",
    "# Add label for vertical axis\n",
    "plt.ylabel(\"Arrival delay (in minutes)\")"
   ]
  },
  {
   "cell_type": "markdown",
   "metadata": {
    "hidden": true
   },
   "source": [
    "![Bar chart](https://www.kaggleusercontent.com/kf/37328165/eyJhbGciOiJkaXIiLCJlbmMiOiJBMTI4Q0JDLUhTMjU2In0..KjXVzwSfMCwG5aWGa8skZQ.kSfYXYbB8GJdGyDhzVkd4i_v1gHSXQF9eu2vXvtRn5LHYvdT80KlU6p0VRZp3HJMbs-DRj8GB_zUL4EBa5ajmp4PPpBOLg7HL-k3FRoissstTVexruHAutYBGy2SdYRGK-pqAsXrlicGiMXlq0j9bcWwLQSxXcebDOKHQKRDDO4YjJvC3XZrEdhNbtQOjOnJfCLqy60SC8yxPqieTP9pI7jgJ3GAhBXTqSaJq-SupP5O45YgmUIwN-s8UzUop364jDDz3rRf8YKFDwoDG95kdSrPyRMTuidgaUjsfWYiBXmjBDDk_xMzSbvOEbzSi8w7ZuZz0HDGl8BVRmQyrA33l8iPJjntolSLjfQ4hc-xn6WJHZ2bBXIwYYL6PIUL9ykVXDR1ixVuLD801nPKVBOCcgwOe8GauJSxk_OihDrgC5DpVKu7oQMyUqGf5Hhj3HxAR6EbxC_NctEwQ5Xc0wgtzmM4nWwHs8HgIJFsa8gF4rAdoO2oTnE_bU3h0cTlxHrnQastreYDDkjNRnQE6l6qXdTvnGSdnsoFP5tcAIQbF3tSLkgQq3KchtIzHRYxDdjC1Zwkwp8wYHWjh4vqx2qLyl-eZJmxtl3HhHJ7R0k-jtKLeIOwmEGV-QSqT0A4N5p0LYWlUP3AOI5fvYwcL6odsbkJ1r-6aTdjdYsqNHtz0yw.6y8JRYlfOjHxkS8sQfJH6w/__results___files/__results___8_1.png)\n",
    "<center>Ref: https://www.kaggle.com/alexisbcook/bar-charts-and-heatmaps </center>"
   ]
  },
  {
   "cell_type": "markdown",
   "metadata": {
    "heading_collapsed": true,
    "hidden": true
   },
   "source": [
    "### Heatmap"
   ]
  },
  {
   "cell_type": "code",
   "execution_count": null,
   "metadata": {
    "hidden": true
   },
   "outputs": [],
   "source": [
    "# Set the width and height of the figure\n",
    "plt.figure(figsize=(14,7))\n",
    "\n",
    "# Add title\n",
    "plt.title(\"Average Arrival Delay for Each Airline, by Month\")\n",
    "\n",
    "# Heatmap showing average arrival delay for each airline by month\n",
    "sns.heatmap(data=flight_data, annot=True) # This ensures that the values for each cell appear on the chart.\n",
    "\n",
    "# Add label for horizontal axis\n",
    "plt.xlabel(\"Airline\")"
   ]
  },
  {
   "cell_type": "markdown",
   "metadata": {
    "hidden": true
   },
   "source": [
    "![Heatmap](https://www.kaggleusercontent.com/kf/37328165/eyJhbGciOiJkaXIiLCJlbmMiOiJBMTI4Q0JDLUhTMjU2In0..KjXVzwSfMCwG5aWGa8skZQ.kSfYXYbB8GJdGyDhzVkd4i_v1gHSXQF9eu2vXvtRn5LHYvdT80KlU6p0VRZp3HJMbs-DRj8GB_zUL4EBa5ajmp4PPpBOLg7HL-k3FRoissstTVexruHAutYBGy2SdYRGK-pqAsXrlicGiMXlq0j9bcWwLQSxXcebDOKHQKRDDO4YjJvC3XZrEdhNbtQOjOnJfCLqy60SC8yxPqieTP9pI7jgJ3GAhBXTqSaJq-SupP5O45YgmUIwN-s8UzUop364jDDz3rRf8YKFDwoDG95kdSrPyRMTuidgaUjsfWYiBXmjBDDk_xMzSbvOEbzSi8w7ZuZz0HDGl8BVRmQyrA33l8iPJjntolSLjfQ4hc-xn6WJHZ2bBXIwYYL6PIUL9ykVXDR1ixVuLD801nPKVBOCcgwOe8GauJSxk_OihDrgC5DpVKu7oQMyUqGf5Hhj3HxAR6EbxC_NctEwQ5Xc0wgtzmM4nWwHs8HgIJFsa8gF4rAdoO2oTnE_bU3h0cTlxHrnQastreYDDkjNRnQE6l6qXdTvnGSdnsoFP5tcAIQbF3tSLkgQq3KchtIzHRYxDdjC1Zwkwp8wYHWjh4vqx2qLyl-eZJmxtl3HhHJ7R0k-jtKLeIOwmEGV-QSqT0A4N5p0LYWlUP3AOI5fvYwcL6odsbkJ1r-6aTdjdYsqNHtz0yw.6y8JRYlfOjHxkS8sQfJH6w/__results___files/__results___10_1.png)\n",
    "<center>Ref: https://www.kaggle.com/alexisbcook/bar-charts-and-heatmaps </center>"
   ]
  },
  {
   "cell_type": "markdown",
   "metadata": {
    "heading_collapsed": true
   },
   "source": [
    "## Scatter Plots\n",
    "Leverage the coordinate plane to explore relationships between variables."
   ]
  },
  {
   "cell_type": "markdown",
   "metadata": {
    "heading_collapsed": true,
    "hidden": true
   },
   "source": [
    "### Scatter plots\n",
    "Usually, we use scatter plots to highlight the relationship between two continuous variables.  "
   ]
  },
  {
   "cell_type": "code",
   "execution_count": null,
   "metadata": {
    "hidden": true
   },
   "outputs": [],
   "source": [
    "sns.scatterplot(x=insurance_data['bmi'], y=insurance_data['charges'])"
   ]
  },
  {
   "cell_type": "markdown",
   "metadata": {
    "hidden": true
   },
   "source": [
    "![Scatter plots](https://www.kaggleusercontent.com/kf/37328160/eyJhbGciOiJkaXIiLCJlbmMiOiJBMTI4Q0JDLUhTMjU2In0..nM426Vn6ycwaSK3zkClXTQ.J1vgF_ykiM9JRLjBSXOkvaenXqBTL0a8Y4dqDO3FAU4M6i3sSpbP5auTuqQKyQ-1TbnoT29kroZEvrVL40vbyUNWQqrbO7eTRrRq_q6hQAUu_zTkyjDY8jmeEijgUl2oqXYg182TmjrOWa754EgasOE46ylPGKW7yIiThswe-W9zd3ParBGf4Ij_duXiVFNMc-DMnzCwz28FkbVw_n2M0EZwnz6iJ__0AOHxpaQ0Rf-3YSZTrWv_2aeXe__ONQnoZTaqq_EC126N6rWkNSSOh_TkX0f8uaNkf1tnrMuv_whX0LTeNVEJeIBVQC0K9DRMkllFHmQYVC7d49T6Vd6kqD9mCLlvk7gDYiI2fHXsx_D46B1f-UMpduLjZDbIHO8pA1nNl4nw30RQcGp2h8Glm42VXf-lJTT4lmA3ZXRhPP1s_hqs1e3ChWBIc1u2Zv9pIo9RYDwGuZLWx1z7LSS679_rLMNIL3ElbnPKNm4T1Jv0QkE99RJt9eZrTx5kqH34ZvSCG4TnyaRnV7aKX66GZCGpfl2bZtgOrC5PkSYQUko37rRGVLRcwVz_smohcwYsx0zx3IJUmx79cqcurGKjtgcHchQ58G6GCs4qoaKv_k9lfS9xQCbUFQWaNTC3SJX2dH5Oq1lCMHHJJSRzAwgzyg.jC_XuAeJmu8Q89K_3jPf4Q/__results___files/__results___8_1.png)\n",
    "<center>Ref: https://www.kaggle.com/alexisbcook/scatter-plots </center>"
   ]
  },
  {
   "cell_type": "markdown",
   "metadata": {
    "heading_collapsed": true,
    "hidden": true
   },
   "source": [
    "### regression line"
   ]
  },
  {
   "cell_type": "code",
   "execution_count": null,
   "metadata": {
    "hidden": true
   },
   "outputs": [],
   "source": [
    "sns.regplot(x=insurance_data['bmi'], y=insurance_data['charges'])"
   ]
  },
  {
   "cell_type": "markdown",
   "metadata": {
    "hidden": true
   },
   "source": [
    "![regression line](https://www.kaggleusercontent.com/kf/37328160/eyJhbGciOiJkaXIiLCJlbmMiOiJBMTI4Q0JDLUhTMjU2In0..8xYYVnsTj6xRLpxzIaJe8Q.7vNREMU2YfrXXvlfzqv3Qu9CSSQdQvS8zMU9x95MX7mRhlGDFz_NyOqdRUcS4bEJpYc-R81p141r8oFEumWUxGlqe3O5nFb36w7apNTPa_qYqen9XeDGSWNycJbfo-kNPqPnM8LKspI3rSAeedeocPkF1TwWLenCVEvGe2y3Jmi8bRCioTsAq0epi-3YDRaZON16ONOIByC7ksoMaEuBKYKDFFhP19O9Rx0-zVhtIL6i0d5Rl2esgbYH2c4VANGIZT5UiK5Zqe89i-b_RkW0vAiiP24tyjKGZcOanzH3kEsNIw9IqCFME9TQLaOXTgbJ36Gv-gWrHP3tUpXcCRLmB-U70qSxiLcHSNPaUum2U_Z9UkdwQTKghFfO4R5yDQ1GdxVTj3xYv75Mi19X3PoBiYVEM_CBJta8BumkHF3WNNDb-6e3oryUrJtwk9zqiPiyJ9JXECFS_rvfv34LX04iz-amXIV0slBxY8T_YSo1_RrGUdOx8ADO6mp0HSCwkmnCEEZb5giAA1HhJ_q1K8AyzbdwPFijGN9r1-xN5dgyybDEJJw3P1VumU_F5LXcWMJFJrlLkXbtLHT_lScFkm2aAnd8JUD-04MVHIg1UeRqn5RyiTrNQglTNGiSymIUqTGwFNdIJ2LwB0Gg20knmwb1lA.uPTvTSghSNguojm_Ym396A/__results___files/__results___10_1.png)\n",
    "<center>Ref: https://www.kaggle.com/alexisbcook/scatter-plots </center>"
   ]
  },
  {
   "cell_type": "markdown",
   "metadata": {
    "heading_collapsed": true,
    "hidden": true
   },
   "source": [
    "### Color-coded scatter plots"
   ]
  },
  {
   "cell_type": "code",
   "execution_count": null,
   "metadata": {
    "hidden": true
   },
   "outputs": [],
   "source": [
    "sns.scatterplot(x=insurance_data['bmi'], y=insurance_data['charges'], hue=insurance_data['smoker'])"
   ]
  },
  {
   "cell_type": "markdown",
   "metadata": {
    "hidden": true
   },
   "source": [
    "![Color-coded scatter plots](https://www.kaggleusercontent.com/kf/37328160/eyJhbGciOiJkaXIiLCJlbmMiOiJBMTI4Q0JDLUhTMjU2In0..nM426Vn6ycwaSK3zkClXTQ.J1vgF_ykiM9JRLjBSXOkvaenXqBTL0a8Y4dqDO3FAU4M6i3sSpbP5auTuqQKyQ-1TbnoT29kroZEvrVL40vbyUNWQqrbO7eTRrRq_q6hQAUu_zTkyjDY8jmeEijgUl2oqXYg182TmjrOWa754EgasOE46ylPGKW7yIiThswe-W9zd3ParBGf4Ij_duXiVFNMc-DMnzCwz28FkbVw_n2M0EZwnz6iJ__0AOHxpaQ0Rf-3YSZTrWv_2aeXe__ONQnoZTaqq_EC126N6rWkNSSOh_TkX0f8uaNkf1tnrMuv_whX0LTeNVEJeIBVQC0K9DRMkllFHmQYVC7d49T6Vd6kqD9mCLlvk7gDYiI2fHXsx_D46B1f-UMpduLjZDbIHO8pA1nNl4nw30RQcGp2h8Glm42VXf-lJTT4lmA3ZXRhPP1s_hqs1e3ChWBIc1u2Zv9pIo9RYDwGuZLWx1z7LSS679_rLMNIL3ElbnPKNm4T1Jv0QkE99RJt9eZrTx5kqH34ZvSCG4TnyaRnV7aKX66GZCGpfl2bZtgOrC5PkSYQUko37rRGVLRcwVz_smohcwYsx0zx3IJUmx79cqcurGKjtgcHchQ58G6GCs4qoaKv_k9lfS9xQCbUFQWaNTC3SJX2dH5Oq1lCMHHJJSRzAwgzyg.jC_XuAeJmu8Q89K_3jPf4Q/__results___files/__results___12_1.png)\n",
    "<center>Ref: https://www.kaggle.com/alexisbcook/scatter-plots </center>"
   ]
  },
  {
   "cell_type": "markdown",
   "metadata": {
    "heading_collapsed": true,
    "hidden": true
   },
   "source": [
    "### two regression lines"
   ]
  },
  {
   "cell_type": "code",
   "execution_count": null,
   "metadata": {
    "hidden": true
   },
   "outputs": [],
   "source": [
    "sns.lmplot(x=\"bmi\", y=\"charges\", hue=\"smoker\", data=insurance_data)"
   ]
  },
  {
   "cell_type": "markdown",
   "metadata": {
    "hidden": true
   },
   "source": [
    "![two regression lines](https://www.kaggleusercontent.com/kf/37328160/eyJhbGciOiJkaXIiLCJlbmMiOiJBMTI4Q0JDLUhTMjU2In0..8xYYVnsTj6xRLpxzIaJe8Q.7vNREMU2YfrXXvlfzqv3Qu9CSSQdQvS8zMU9x95MX7mRhlGDFz_NyOqdRUcS4bEJpYc-R81p141r8oFEumWUxGlqe3O5nFb36w7apNTPa_qYqen9XeDGSWNycJbfo-kNPqPnM8LKspI3rSAeedeocPkF1TwWLenCVEvGe2y3Jmi8bRCioTsAq0epi-3YDRaZON16ONOIByC7ksoMaEuBKYKDFFhP19O9Rx0-zVhtIL6i0d5Rl2esgbYH2c4VANGIZT5UiK5Zqe89i-b_RkW0vAiiP24tyjKGZcOanzH3kEsNIw9IqCFME9TQLaOXTgbJ36Gv-gWrHP3tUpXcCRLmB-U70qSxiLcHSNPaUum2U_Z9UkdwQTKghFfO4R5yDQ1GdxVTj3xYv75Mi19X3PoBiYVEM_CBJta8BumkHF3WNNDb-6e3oryUrJtwk9zqiPiyJ9JXECFS_rvfv34LX04iz-amXIV0slBxY8T_YSo1_RrGUdOx8ADO6mp0HSCwkmnCEEZb5giAA1HhJ_q1K8AyzbdwPFijGN9r1-xN5dgyybDEJJw3P1VumU_F5LXcWMJFJrlLkXbtLHT_lScFkm2aAnd8JUD-04MVHIg1UeRqn5RyiTrNQglTNGiSymIUqTGwFNdIJ2LwB0Gg20knmwb1lA.uPTvTSghSNguojm_Ym396A/__results___files/__results___14_1.png)\n",
    "<center>Ref: https://www.kaggle.com/alexisbcook/scatter-plots </center>"
   ]
  },
  {
   "cell_type": "markdown",
   "metadata": {
    "heading_collapsed": true,
    "hidden": true
   },
   "source": [
    "### categorical scatter plot"
   ]
  },
  {
   "cell_type": "code",
   "execution_count": null,
   "metadata": {
    "hidden": true
   },
   "outputs": [],
   "source": [
    "sns.swarmplot(x=insurance_data['smoker'], y=insurance_data['charges'])"
   ]
  },
  {
   "cell_type": "markdown",
   "metadata": {
    "hidden": true
   },
   "source": [
    "![categorical scatter plot](https://www.kaggleusercontent.com/kf/37328160/eyJhbGciOiJkaXIiLCJlbmMiOiJBMTI4Q0JDLUhTMjU2In0..nM426Vn6ycwaSK3zkClXTQ.J1vgF_ykiM9JRLjBSXOkvaenXqBTL0a8Y4dqDO3FAU4M6i3sSpbP5auTuqQKyQ-1TbnoT29kroZEvrVL40vbyUNWQqrbO7eTRrRq_q6hQAUu_zTkyjDY8jmeEijgUl2oqXYg182TmjrOWa754EgasOE46ylPGKW7yIiThswe-W9zd3ParBGf4Ij_duXiVFNMc-DMnzCwz28FkbVw_n2M0EZwnz6iJ__0AOHxpaQ0Rf-3YSZTrWv_2aeXe__ONQnoZTaqq_EC126N6rWkNSSOh_TkX0f8uaNkf1tnrMuv_whX0LTeNVEJeIBVQC0K9DRMkllFHmQYVC7d49T6Vd6kqD9mCLlvk7gDYiI2fHXsx_D46B1f-UMpduLjZDbIHO8pA1nNl4nw30RQcGp2h8Glm42VXf-lJTT4lmA3ZXRhPP1s_hqs1e3ChWBIc1u2Zv9pIo9RYDwGuZLWx1z7LSS679_rLMNIL3ElbnPKNm4T1Jv0QkE99RJt9eZrTx5kqH34ZvSCG4TnyaRnV7aKX66GZCGpfl2bZtgOrC5PkSYQUko37rRGVLRcwVz_smohcwYsx0zx3IJUmx79cqcurGKjtgcHchQ58G6GCs4qoaKv_k9lfS9xQCbUFQWaNTC3SJX2dH5Oq1lCMHHJJSRzAwgzyg.jC_XuAeJmu8Q89K_3jPf4Q/__results___files/__results___16_1.png)\n",
    "<center>Ref: https://www.kaggle.com/alexisbcook/scatter-plots </center>"
   ]
  },
  {
   "cell_type": "markdown",
   "metadata": {
    "heading_collapsed": true
   },
   "source": [
    "## Distributions\n",
    "Create histograms and density plots."
   ]
  },
  {
   "cell_type": "markdown",
   "metadata": {
    "heading_collapsed": true,
    "hidden": true
   },
   "source": [
    "### Histograms"
   ]
  },
  {
   "cell_type": "code",
   "execution_count": null,
   "metadata": {
    "hidden": true
   },
   "outputs": [],
   "source": [
    "# Histogram \n",
    "sns.distplot(a=iris_data['Petal Length (cm)'], kde=False) # create a slightly different plot"
   ]
  },
  {
   "cell_type": "markdown",
   "metadata": {
    "hidden": true
   },
   "source": [
    "![Histograms](https://www.kaggleusercontent.com/kf/37328174/eyJhbGciOiJkaXIiLCJlbmMiOiJBMTI4Q0JDLUhTMjU2In0..lrrQ3kqQsMpeei-KasyWJw.7hYjB8mY0BO9gQ9QjioUJByaJFWepOZGYmywnEdLYlDgRxU2P2zwM1-c9fbAB5IWNS-JaCNdkmJnWIkb1I7ubUO5UoSpbWntyZLBvcIbU-ekf8IA8NiwVhB1bCFbKChaDgm6geceowJ8gnAftqLJ5_3fkMj6p8C840wAobGSE9Rcf39En7GNh15shfQE6Tov_GQeDKaMMLy5YUE0zPAaUagruflOXoXPAQebEk5XrgDKBGyoMSMWr2a2jobAIc6TcCrbZ1O2u5szwqDUXn_eDfHuFXkeEAzh_3FaZZFKNl5xZDlCeKg6vIQ2hUl1sCo7KCpb9iiPDfcXK2ahhZh8j9ylU_O4jMDqtssVXAzMdKB4uWGQ3GST3i34kPTQmKUhvjnQG8NtfbmLVoiEY-duugekwtWYAh5Ol6vn0_nXV0M3-QkJmcMn_mE4VjiSQR_l5pRYLLEHHgdtfXONuLglp29piXFDzpdAGyWLHg03LxjkqNmVooYzrTjbdrWhIipZrcHdmJL9LctI32Q1FI_YnSLv4kjCXI6PQWQjq9beLwnqJjE-Rmkjqd6fLenvNoAyZUWNCLNRADKjN-TkIjoIrt7qq16iLCii7K-i2LXPM-e-EGPWYHpeZUN5qVEfVb17NhUShdFCx0o5thMRk0nj9w.6-nXX_8uFovRm0AhIPpKhw/__results___files/__results___6_1.png)\n",
    "<center>Ref: https://www.kaggle.com/alexisbcook/distributions </center>"
   ]
  },
  {
   "cell_type": "markdown",
   "metadata": {
    "heading_collapsed": true,
    "hidden": true
   },
   "source": [
    "### Density plots\n",
    "The next type of plot is a **kernel density estimate (KDE)** plot. In case you're not familiar with KDE plots, you can think of it as a smoothed histogram.  "
   ]
  },
  {
   "cell_type": "code",
   "execution_count": null,
   "metadata": {
    "hidden": true
   },
   "outputs": [],
   "source": [
    "# KDE plot \n",
    "sns.kdeplot(data=iris_data['Petal Length (cm)'], shade=True)"
   ]
  },
  {
   "cell_type": "markdown",
   "metadata": {
    "hidden": true
   },
   "source": [
    "![Density plots](https://www.kaggleusercontent.com/kf/37328174/eyJhbGciOiJkaXIiLCJlbmMiOiJBMTI4Q0JDLUhTMjU2In0..lrrQ3kqQsMpeei-KasyWJw.7hYjB8mY0BO9gQ9QjioUJByaJFWepOZGYmywnEdLYlDgRxU2P2zwM1-c9fbAB5IWNS-JaCNdkmJnWIkb1I7ubUO5UoSpbWntyZLBvcIbU-ekf8IA8NiwVhB1bCFbKChaDgm6geceowJ8gnAftqLJ5_3fkMj6p8C840wAobGSE9Rcf39En7GNh15shfQE6Tov_GQeDKaMMLy5YUE0zPAaUagruflOXoXPAQebEk5XrgDKBGyoMSMWr2a2jobAIc6TcCrbZ1O2u5szwqDUXn_eDfHuFXkeEAzh_3FaZZFKNl5xZDlCeKg6vIQ2hUl1sCo7KCpb9iiPDfcXK2ahhZh8j9ylU_O4jMDqtssVXAzMdKB4uWGQ3GST3i34kPTQmKUhvjnQG8NtfbmLVoiEY-duugekwtWYAh5Ol6vn0_nXV0M3-QkJmcMn_mE4VjiSQR_l5pRYLLEHHgdtfXONuLglp29piXFDzpdAGyWLHg03LxjkqNmVooYzrTjbdrWhIipZrcHdmJL9LctI32Q1FI_YnSLv4kjCXI6PQWQjq9beLwnqJjE-Rmkjqd6fLenvNoAyZUWNCLNRADKjN-TkIjoIrt7qq16iLCii7K-i2LXPM-e-EGPWYHpeZUN5qVEfVb17NhUShdFCx0o5thMRk0nj9w.6-nXX_8uFovRm0AhIPpKhw/__results___files/__results___8_1.png)\n",
    "<center>Ref: https://www.kaggle.com/alexisbcook/distributions </center>"
   ]
  },
  {
   "cell_type": "markdown",
   "metadata": {
    "heading_collapsed": true,
    "hidden": true
   },
   "source": [
    "### 2D KDE plots\n",
    "We're not restricted to a single column when creating a KDE plot. We can create a **two-dimensional (2D) KDE** plot with the ```sns.jointplot``` command."
   ]
  },
  {
   "cell_type": "code",
   "execution_count": null,
   "metadata": {
    "hidden": true
   },
   "outputs": [],
   "source": [
    "# 2D KDE plot\n",
    "sns.jointplot(x=iris_data['Petal Length (cm)'], y=iris_data['Sepal Width (cm)'], kind=\"kde\")"
   ]
  },
  {
   "cell_type": "markdown",
   "metadata": {
    "hidden": true
   },
   "source": [
    "![2D KDE plots](https://www.kaggleusercontent.com/kf/37328174/eyJhbGciOiJkaXIiLCJlbmMiOiJBMTI4Q0JDLUhTMjU2In0..lrrQ3kqQsMpeei-KasyWJw.7hYjB8mY0BO9gQ9QjioUJByaJFWepOZGYmywnEdLYlDgRxU2P2zwM1-c9fbAB5IWNS-JaCNdkmJnWIkb1I7ubUO5UoSpbWntyZLBvcIbU-ekf8IA8NiwVhB1bCFbKChaDgm6geceowJ8gnAftqLJ5_3fkMj6p8C840wAobGSE9Rcf39En7GNh15shfQE6Tov_GQeDKaMMLy5YUE0zPAaUagruflOXoXPAQebEk5XrgDKBGyoMSMWr2a2jobAIc6TcCrbZ1O2u5szwqDUXn_eDfHuFXkeEAzh_3FaZZFKNl5xZDlCeKg6vIQ2hUl1sCo7KCpb9iiPDfcXK2ahhZh8j9ylU_O4jMDqtssVXAzMdKB4uWGQ3GST3i34kPTQmKUhvjnQG8NtfbmLVoiEY-duugekwtWYAh5Ol6vn0_nXV0M3-QkJmcMn_mE4VjiSQR_l5pRYLLEHHgdtfXONuLglp29piXFDzpdAGyWLHg03LxjkqNmVooYzrTjbdrWhIipZrcHdmJL9LctI32Q1FI_YnSLv4kjCXI6PQWQjq9beLwnqJjE-Rmkjqd6fLenvNoAyZUWNCLNRADKjN-TkIjoIrt7qq16iLCii7K-i2LXPM-e-EGPWYHpeZUN5qVEfVb17NhUShdFCx0o5thMRk0nj9w.6-nXX_8uFovRm0AhIPpKhw/__results___files/__results___10_1.png)\n",
    "<center>Ref: https://www.kaggle.com/alexisbcook/distributions </center>"
   ]
  },
  {
   "cell_type": "markdown",
   "metadata": {
    "heading_collapsed": true,
    "hidden": true
   },
   "source": [
    "### Color-coded plots"
   ]
  },
  {
   "cell_type": "code",
   "execution_count": null,
   "metadata": {
    "hidden": true
   },
   "outputs": [],
   "source": [
    "# Histograms for each species\n",
    "sns.distplot(a=iris_set_data['Petal Length (cm)'], label=\"Iris-setosa\", kde=False)\n",
    "sns.distplot(a=iris_ver_data['Petal Length (cm)'], label=\"Iris-versicolor\", kde=False)\n",
    "sns.distplot(a=iris_vir_data['Petal Length (cm)'], label=\"Iris-virginica\", kde=False)\n",
    "\n",
    "# Add title\n",
    "plt.title(\"Histogram of Petal Lengths, by Species\")\n",
    "\n",
    "# Force legend to appear\n",
    "plt.legend()"
   ]
  },
  {
   "cell_type": "markdown",
   "metadata": {
    "hidden": true
   },
   "source": [
    "![Color-coded plots](https://www.kaggleusercontent.com/kf/37328174/eyJhbGciOiJkaXIiLCJlbmMiOiJBMTI4Q0JDLUhTMjU2In0..lrrQ3kqQsMpeei-KasyWJw.7hYjB8mY0BO9gQ9QjioUJByaJFWepOZGYmywnEdLYlDgRxU2P2zwM1-c9fbAB5IWNS-JaCNdkmJnWIkb1I7ubUO5UoSpbWntyZLBvcIbU-ekf8IA8NiwVhB1bCFbKChaDgm6geceowJ8gnAftqLJ5_3fkMj6p8C840wAobGSE9Rcf39En7GNh15shfQE6Tov_GQeDKaMMLy5YUE0zPAaUagruflOXoXPAQebEk5XrgDKBGyoMSMWr2a2jobAIc6TcCrbZ1O2u5szwqDUXn_eDfHuFXkeEAzh_3FaZZFKNl5xZDlCeKg6vIQ2hUl1sCo7KCpb9iiPDfcXK2ahhZh8j9ylU_O4jMDqtssVXAzMdKB4uWGQ3GST3i34kPTQmKUhvjnQG8NtfbmLVoiEY-duugekwtWYAh5Ol6vn0_nXV0M3-QkJmcMn_mE4VjiSQR_l5pRYLLEHHgdtfXONuLglp29piXFDzpdAGyWLHg03LxjkqNmVooYzrTjbdrWhIipZrcHdmJL9LctI32Q1FI_YnSLv4kjCXI6PQWQjq9beLwnqJjE-Rmkjqd6fLenvNoAyZUWNCLNRADKjN-TkIjoIrt7qq16iLCii7K-i2LXPM-e-EGPWYHpeZUN5qVEfVb17NhUShdFCx0o5thMRk0nj9w.6-nXX_8uFovRm0AhIPpKhw/__results___files/__results___15_1.png)\n",
    "<center>Ref: https://www.kaggle.com/alexisbcook/distributions </center>"
   ]
  },
  {
   "cell_type": "code",
   "execution_count": null,
   "metadata": {
    "hidden": true
   },
   "outputs": [],
   "source": [
    "# KDE plots for each species\n",
    "sns.kdeplot(data=iris_set_data['Petal Length (cm)'], label=\"Iris-setosa\", shade=True)\n",
    "sns.kdeplot(data=iris_ver_data['Petal Length (cm)'], label=\"Iris-versicolor\", shade=True)\n",
    "sns.kdeplot(data=iris_vir_data['Petal Length (cm)'], label=\"Iris-virginica\", shade=True)\n",
    "\n",
    "# Add title\n",
    "plt.title(\"Distribution of Petal Lengths, by Species\")"
   ]
  },
  {
   "cell_type": "markdown",
   "metadata": {
    "hidden": true
   },
   "source": [
    "![Color-coded plots](https://www.kaggleusercontent.com/kf/37328174/eyJhbGciOiJkaXIiLCJlbmMiOiJBMTI4Q0JDLUhTMjU2In0..lrrQ3kqQsMpeei-KasyWJw.7hYjB8mY0BO9gQ9QjioUJByaJFWepOZGYmywnEdLYlDgRxU2P2zwM1-c9fbAB5IWNS-JaCNdkmJnWIkb1I7ubUO5UoSpbWntyZLBvcIbU-ekf8IA8NiwVhB1bCFbKChaDgm6geceowJ8gnAftqLJ5_3fkMj6p8C840wAobGSE9Rcf39En7GNh15shfQE6Tov_GQeDKaMMLy5YUE0zPAaUagruflOXoXPAQebEk5XrgDKBGyoMSMWr2a2jobAIc6TcCrbZ1O2u5szwqDUXn_eDfHuFXkeEAzh_3FaZZFKNl5xZDlCeKg6vIQ2hUl1sCo7KCpb9iiPDfcXK2ahhZh8j9ylU_O4jMDqtssVXAzMdKB4uWGQ3GST3i34kPTQmKUhvjnQG8NtfbmLVoiEY-duugekwtWYAh5Ol6vn0_nXV0M3-QkJmcMn_mE4VjiSQR_l5pRYLLEHHgdtfXONuLglp29piXFDzpdAGyWLHg03LxjkqNmVooYzrTjbdrWhIipZrcHdmJL9LctI32Q1FI_YnSLv4kjCXI6PQWQjq9beLwnqJjE-Rmkjqd6fLenvNoAyZUWNCLNRADKjN-TkIjoIrt7qq16iLCii7K-i2LXPM-e-EGPWYHpeZUN5qVEfVb17NhUShdFCx0o5thMRk0nj9w.6-nXX_8uFovRm0AhIPpKhw/__results___files/__results___17_1.png)\n",
    "<center>Ref: https://www.kaggle.com/alexisbcook/distributions </center>"
   ]
  },
  {
   "cell_type": "markdown",
   "metadata": {
    "heading_collapsed": true
   },
   "source": [
    "## Choosing Plot Types and Custom Styles\n",
    "Customize your charts and make them look snazzy."
   ]
  },
  {
   "cell_type": "markdown",
   "metadata": {
    "hidden": true
   },
   "source": [
    "#### Trends - A trend is defined as a pattern of change.\n",
    "- ```sns.lineplot``` - Line charts are best to show trends over a period of time, and multiple lines can be used to show trends in more than one group."
   ]
  },
  {
   "cell_type": "markdown",
   "metadata": {
    "hidden": true
   },
   "source": [
    "#### Relationship - There are many different chart types that you can use to understand relationships between variables in your data.\n",
    "- ```sns.barplot``` - Bar charts are useful for comparing quantities corresponding to different groups.\n",
    "- ```sns.heatmap``` - Heatmaps can be used to find color-coded patterns in tables of numbers.\n",
    "- ```sns.scatterplot``` - Scatter plots show the relationship between two continuous variables; if color-coded, we can also show the relationship with a third categorical variable.\n",
    "- ```sns.regplot``` - Including a regression line in the scatter plot makes it easier to see any linear relationship between two variables.\n",
    "- ```sns.lmplot``` - This command is useful for drawing multiple regression lines, if the scatter plot contains multiple, color-coded groups.\n",
    "- ```sns.swarmplot``` - Categorical scatter plots show the relationship between a continuous variable and a categorical variable."
   ]
  },
  {
   "cell_type": "markdown",
   "metadata": {
    "hidden": true
   },
   "source": [
    "#### Distribution - We visualize distributions to show the possible values that we can expect to see in a variable, along with how likely they are.\n",
    "- ```sns.distplot``` - Histograms show the distribution of a single numerical variable.\n",
    "- ```sns.kdeplot``` - KDE plots (or 2D KDE plots) show an estimated, smooth distribution of a single numerical variable (or two numerical variables).\n",
    "- ```sns.jointplot``` - This command is useful for simultaneously displaying a 2D KDE plot with the corresponding KDE plots for each individual variable."
   ]
  },
  {
   "cell_type": "markdown",
   "metadata": {
    "hidden": true
   },
   "source": [
    "### Changing styles with seaborn"
   ]
  },
  {
   "cell_type": "code",
   "execution_count": null,
   "metadata": {
    "hidden": true
   },
   "outputs": [],
   "source": [
    "# Line chart \n",
    "plt.figure(figsize=(12,6))\n",
    "sns.lineplot(data=spotify_data)"
   ]
  },
  {
   "cell_type": "markdown",
   "metadata": {
    "hidden": true
   },
   "source": [
    "![Changing styles with seaborn](https://www.kaggleusercontent.com/kf/37328213/eyJhbGciOiJkaXIiLCJlbmMiOiJBMTI4Q0JDLUhTMjU2In0..Gm7wOQEMsZr6WMShpdgW8w.wWuLy7zKODgO6mnccdyTpmAUJgo9EtOgyVfs1bl5StNa2VSI0IelghxTl-G8RBRhDHuD7oCVIb0omGv2zWqBlDvMjV_NpEQg2sXNxMa5HQI06GwY2Nkkfr37R3z_SyLvOzuubtuZlapDEs83j_5CdMc2u1nIqWRQruiVVJzlaoVTd9iRI_qxnG4WjK3AQHQHzsSu4EBTmBFjIeuk5TPVYk5do0FJ5nYQ29ofywPsRxzrdwrzLYu9i7_vR_QRJuBGbL60bFYYPnGcTeIvNrRMhfPP0sp65DrYcQxq-d6xga6RyWE33Pyd_1AHwSJmBjLll5CzXIDmgYbucinJa2reESSbEecUerzptdprHa8rxKOLLI9534zHrHDFPQ4tA-Ykue3Yq8ii1ySIxQEmM60dD2TeZ8DDWXhVBHaLNzXPnJo57wUIP2rKP5SsJmk-plmkNlviah9rT3Tw_oq-g66Udo2JX-RIOWaCpzQsBF0ykToVfKxXj2z0LJTnsnIS9QxUfupGkARTUE_ybPY4VFw75ckKthzhVKl7AmFPObmd8blBXqgP_acGDdHr4YXuDKcLrE0fO_FrCKz42F439UE9D76re07bENcx3KttDYrws8aHXkz51lK4Tb1xrBSss_9IVe8N6dc7UZYQXO8pOGgS8skjesgfh0Mj0YiKM8xeWZcul3jyq_EiLc9yZ0_xtImq.2OjBL9rT0BKdfdPSA04pCw/__results___files/__results___5_1.png)\n",
    "<center>Ref: https://www.kaggle.com/alexisbcook/choosing-plot-types-and-custom-styles </center>"
   ]
  },
  {
   "cell_type": "markdown",
   "metadata": {
    "hidden": true
   },
   "source": [
    "Seaborn has five different themes: (1)```\"darkgrid\"```, (2)```\"whitegrid\"```, (3)```\"dark\"```, (4)```\"white\"```, and (5)```\"ticks\"```."
   ]
  },
  {
   "cell_type": "code",
   "execution_count": null,
   "metadata": {
    "hidden": true
   },
   "outputs": [],
   "source": [
    "# Change the style of the figure to the \"dark\" theme\n",
    "sns.set_style(\"dark\")\n",
    "\n",
    "# Line chart \n",
    "plt.figure(figsize=(12,6))\n",
    "sns.lineplot(data=spotify_data)"
   ]
  },
  {
   "cell_type": "markdown",
   "metadata": {
    "hidden": true
   },
   "source": [
    "![Changing styles with seaborn](https://www.kaggleusercontent.com/kf/37328213/eyJhbGciOiJkaXIiLCJlbmMiOiJBMTI4Q0JDLUhTMjU2In0..Gm7wOQEMsZr6WMShpdgW8w.wWuLy7zKODgO6mnccdyTpmAUJgo9EtOgyVfs1bl5StNa2VSI0IelghxTl-G8RBRhDHuD7oCVIb0omGv2zWqBlDvMjV_NpEQg2sXNxMa5HQI06GwY2Nkkfr37R3z_SyLvOzuubtuZlapDEs83j_5CdMc2u1nIqWRQruiVVJzlaoVTd9iRI_qxnG4WjK3AQHQHzsSu4EBTmBFjIeuk5TPVYk5do0FJ5nYQ29ofywPsRxzrdwrzLYu9i7_vR_QRJuBGbL60bFYYPnGcTeIvNrRMhfPP0sp65DrYcQxq-d6xga6RyWE33Pyd_1AHwSJmBjLll5CzXIDmgYbucinJa2reESSbEecUerzptdprHa8rxKOLLI9534zHrHDFPQ4tA-Ykue3Yq8ii1ySIxQEmM60dD2TeZ8DDWXhVBHaLNzXPnJo57wUIP2rKP5SsJmk-plmkNlviah9rT3Tw_oq-g66Udo2JX-RIOWaCpzQsBF0ykToVfKxXj2z0LJTnsnIS9QxUfupGkARTUE_ybPY4VFw75ckKthzhVKl7AmFPObmd8blBXqgP_acGDdHr4YXuDKcLrE0fO_FrCKz42F439UE9D76re07bENcx3KttDYrws8aHXkz51lK4Tb1xrBSss_9IVe8N6dc7UZYQXO8pOGgS8skjesgfh0Mj0YiKM8xeWZcul3jyq_EiLc9yZ0_xtImq.2OjBL9rT0BKdfdPSA04pCw/__results___files/__results___7_1.png)\n",
    "<center>Ref: https://www.kaggle.com/alexisbcook/choosing-plot-types-and-custom-styles </center>"
   ]
  }
 ],
 "metadata": {
  "kernelspec": {
   "display_name": "Python 3",
   "language": "python",
   "name": "python3"
  },
  "language_info": {
   "codemirror_mode": {
    "name": "ipython",
    "version": 3
   },
   "file_extension": ".py",
   "mimetype": "text/x-python",
   "name": "python",
   "nbconvert_exporter": "python",
   "pygments_lexer": "ipython3",
   "version": "3.7.3"
  }
 },
 "nbformat": 4,
 "nbformat_minor": 2
}

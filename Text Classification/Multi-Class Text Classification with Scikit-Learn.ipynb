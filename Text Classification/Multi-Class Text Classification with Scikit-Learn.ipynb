{
 "cells": [
  {
   "cell_type": "markdown",
   "metadata": {},
   "source": [
    "There are lots of applications of text classification in the commercial world. For example, news stories are typically organized by topics; content or products are often tagged by categories; users can be classified into cohorts based on how they talk about a product or brand online …  \n",
    "\n",
    "However, the vast majority of text classification articles and tutorials on the internet are **binary text classification** such as email spam filtering (spam vs. ham), sentiment analysis (positive vs. negative). In most cases, our real world problem are much more complicated than that. Therefore, this is what we are going to do today: *Classifying Consumer Finance Complaints into 18 pre-defined classes*. The data can be downloaded from [data.gov](https://catalog.data.gov/dataset/consumer-complaint-database).  \n",
    "\n",
    "## Aim\n",
    "The problem is supervised text classification problem, and our goal is to investigate which supervised machine learning methods are best suited to solve it.  \n",
    "\n",
    "Given a new complaint comes in, we want to assign it to one of 18 categories. The classifier makes the assumption that each new complaint is assigned to one and only one category. This is multi-class text classification problem.  \n",
    "\n",
    "\n",
    "## Data\n",
    "\n",
    "- Input: 'Consumer complaint narrative'\n",
    "- Output: 'product'\n",
    "\n",
    "## Ref\n",
    "- `sklearn.feature_selection.chi2` computes chi-squared stats between each non-negative feature and class. This score can be used to select the n_features features with the highest values for the test chi-squared statistic from X, which must contain only non-negative features such as booleans or frequencies (e.g., term counts in document classification), relative to the classes. https://www.lizenghai.com/archives/34278.html \n",
    "- `numpy.argsort` returns the indices that would sort an array.\n",
    "- `sklearn.model_selection.cross_val_score` evaluates a score by cross-validation. \n",
    "- `sklearn.metrics.classification_report` builds a text report showing the main classification metrics. Text summary of the precision, recall, F1 score for each class."
   ]
  },
  {
   "cell_type": "markdown",
   "metadata": {},
   "source": [
    "## 0. Import Necessary Packages"
   ]
  },
  {
   "cell_type": "code",
   "execution_count": 1,
   "metadata": {},
   "outputs": [],
   "source": [
    "import pandas as pd\n",
    "import numpy as np\n",
    "import matplotlib.pyplot as plt\n",
    "from io import StringIO\n",
    "from sklearn.feature_selection import chi2\n",
    "from sklearn.model_selection import train_test_split\n",
    "from sklearn.model_selection import cross_val_score\n",
    "from sklearn.feature_extraction.text import CountVectorizer\n",
    "from sklearn.feature_extraction.text import TfidfVectorizer\n",
    "from sklearn.naive_bayes import MultinomialNB\n",
    "from sklearn.linear_model import LogisticRegression\n",
    "from sklearn.ensemble import RandomForestClassifier\n",
    "from sklearn.svm import LinearSVC\n",
    "from sklearn.metrics import confusion_matrix\n",
    "from sklearn.metrics import classification_report\n",
    "from IPython.display import display\n",
    "import warnings\n",
    "warnings.filterwarnings(\"ignore\")"
   ]
  },
  {
   "cell_type": "markdown",
   "metadata": {},
   "source": [
    "## 1. Import the Dataset"
   ]
  },
  {
   "cell_type": "code",
   "execution_count": 2,
   "metadata": {},
   "outputs": [],
   "source": [
    "df = pd.read_csv('data/complaints.csv', index_col=False, delimiter=',', encoding='utf-8')"
   ]
  },
  {
   "cell_type": "markdown",
   "metadata": {},
   "source": [
    "## 2. Preview the Dataset"
   ]
  },
  {
   "cell_type": "code",
   "execution_count": 3,
   "metadata": {},
   "outputs": [
    {
     "name": "stdout",
     "output_type": "stream",
     "text": [
      "Total Number of Features:  18\n",
      "Total Number of Instances:  1523040\n",
      "Feature Set includes:  ['Date received' 'Product' 'Sub-product' 'Issue' 'Sub-issue'\n",
      " 'Consumer complaint narrative' 'Company public response' 'Company'\n",
      " 'State' 'ZIP code' 'Tags' 'Consumer consent provided?' 'Submitted via'\n",
      " 'Date sent to company' 'Company response to consumer' 'Timely response?'\n",
      " 'Consumer disputed?' 'Complaint ID']\n"
     ]
    }
   ],
   "source": [
    "# Display the dimensions of the dataset.\n",
    "rows = df.shape[0]\n",
    "columns = df.shape[1]\n",
    "feature_set = df.columns.values\n",
    "print('Total Number of Features: ', columns)\n",
    "print('Total Number of Instances: ', rows)\n",
    "print('Feature Set includes: ', feature_set) "
   ]
  },
  {
   "cell_type": "code",
   "execution_count": 4,
   "metadata": {},
   "outputs": [
    {
     "data": {
      "text/html": [
       "<div>\n",
       "<style scoped>\n",
       "    .dataframe tbody tr th:only-of-type {\n",
       "        vertical-align: middle;\n",
       "    }\n",
       "\n",
       "    .dataframe tbody tr th {\n",
       "        vertical-align: top;\n",
       "    }\n",
       "\n",
       "    .dataframe thead th {\n",
       "        text-align: right;\n",
       "    }\n",
       "</style>\n",
       "<table border=\"1\" class=\"dataframe\">\n",
       "  <thead>\n",
       "    <tr style=\"text-align: right;\">\n",
       "      <th></th>\n",
       "      <th>Date received</th>\n",
       "      <th>Product</th>\n",
       "      <th>Sub-product</th>\n",
       "      <th>Issue</th>\n",
       "      <th>Sub-issue</th>\n",
       "      <th>Consumer complaint narrative</th>\n",
       "      <th>Company public response</th>\n",
       "      <th>Company</th>\n",
       "      <th>State</th>\n",
       "      <th>ZIP code</th>\n",
       "      <th>Tags</th>\n",
       "      <th>Consumer consent provided?</th>\n",
       "      <th>Submitted via</th>\n",
       "      <th>Date sent to company</th>\n",
       "      <th>Company response to consumer</th>\n",
       "      <th>Timely response?</th>\n",
       "      <th>Consumer disputed?</th>\n",
       "      <th>Complaint ID</th>\n",
       "    </tr>\n",
       "  </thead>\n",
       "  <tbody>\n",
       "    <tr>\n",
       "      <th>0</th>\n",
       "      <td>2019-09-24</td>\n",
       "      <td>Debt collection</td>\n",
       "      <td>I do not know</td>\n",
       "      <td>Attempts to collect debt not owed</td>\n",
       "      <td>Debt is not yours</td>\n",
       "      <td>transworld systems inc. \\nis trying to collect...</td>\n",
       "      <td>NaN</td>\n",
       "      <td>TRANSWORLD SYSTEMS INC</td>\n",
       "      <td>FL</td>\n",
       "      <td>335XX</td>\n",
       "      <td>NaN</td>\n",
       "      <td>Consent provided</td>\n",
       "      <td>Web</td>\n",
       "      <td>2019-09-24</td>\n",
       "      <td>Closed with explanation</td>\n",
       "      <td>Yes</td>\n",
       "      <td>NaN</td>\n",
       "      <td>3384392</td>\n",
       "    </tr>\n",
       "    <tr>\n",
       "      <th>1</th>\n",
       "      <td>2019-09-19</td>\n",
       "      <td>Credit reporting, credit repair services, or o...</td>\n",
       "      <td>Credit reporting</td>\n",
       "      <td>Incorrect information on your report</td>\n",
       "      <td>Information belongs to someone else</td>\n",
       "      <td>NaN</td>\n",
       "      <td>Company has responded to the consumer and the ...</td>\n",
       "      <td>Experian Information Solutions Inc.</td>\n",
       "      <td>PA</td>\n",
       "      <td>15206</td>\n",
       "      <td>NaN</td>\n",
       "      <td>Consent not provided</td>\n",
       "      <td>Web</td>\n",
       "      <td>2019-09-20</td>\n",
       "      <td>Closed with non-monetary relief</td>\n",
       "      <td>Yes</td>\n",
       "      <td>NaN</td>\n",
       "      <td>3379500</td>\n",
       "    </tr>\n",
       "    <tr>\n",
       "      <th>2</th>\n",
       "      <td>2019-10-25</td>\n",
       "      <td>Credit reporting, credit repair services, or o...</td>\n",
       "      <td>Credit reporting</td>\n",
       "      <td>Incorrect information on your report</td>\n",
       "      <td>Information belongs to someone else</td>\n",
       "      <td>I would like to request the suppression of the...</td>\n",
       "      <td>Company has responded to the consumer and the ...</td>\n",
       "      <td>TRANSUNION INTERMEDIATE HOLDINGS, INC.</td>\n",
       "      <td>CA</td>\n",
       "      <td>937XX</td>\n",
       "      <td>NaN</td>\n",
       "      <td>Consent provided</td>\n",
       "      <td>Web</td>\n",
       "      <td>2019-10-25</td>\n",
       "      <td>Closed with explanation</td>\n",
       "      <td>Yes</td>\n",
       "      <td>NaN</td>\n",
       "      <td>3417821</td>\n",
       "    </tr>\n",
       "    <tr>\n",
       "      <th>3</th>\n",
       "      <td>2019-11-08</td>\n",
       "      <td>Debt collection</td>\n",
       "      <td>I do not know</td>\n",
       "      <td>Communication tactics</td>\n",
       "      <td>Frequent or repeated calls</td>\n",
       "      <td>Over the past 2 weeks, I have been receiving e...</td>\n",
       "      <td>NaN</td>\n",
       "      <td>Diversified Consultants, Inc.</td>\n",
       "      <td>NC</td>\n",
       "      <td>275XX</td>\n",
       "      <td>NaN</td>\n",
       "      <td>Consent provided</td>\n",
       "      <td>Web</td>\n",
       "      <td>2019-11-08</td>\n",
       "      <td>Closed with explanation</td>\n",
       "      <td>Yes</td>\n",
       "      <td>NaN</td>\n",
       "      <td>3433198</td>\n",
       "    </tr>\n",
       "    <tr>\n",
       "      <th>4</th>\n",
       "      <td>2019-02-08</td>\n",
       "      <td>Vehicle loan or lease</td>\n",
       "      <td>Lease</td>\n",
       "      <td>Problem with a credit reporting company's inve...</td>\n",
       "      <td>Their investigation did not fix an error on yo...</td>\n",
       "      <td>NaN</td>\n",
       "      <td>NaN</td>\n",
       "      <td>HYUNDAI CAPITAL AMERICA</td>\n",
       "      <td>FL</td>\n",
       "      <td>33161</td>\n",
       "      <td>NaN</td>\n",
       "      <td>Consent not provided</td>\n",
       "      <td>Web</td>\n",
       "      <td>2019-02-08</td>\n",
       "      <td>Closed with non-monetary relief</td>\n",
       "      <td>Yes</td>\n",
       "      <td>NaN</td>\n",
       "      <td>3146310</td>\n",
       "    </tr>\n",
       "  </tbody>\n",
       "</table>\n",
       "</div>"
      ],
      "text/plain": [
       "  Date received                                            Product  \\\n",
       "0    2019-09-24                                    Debt collection   \n",
       "1    2019-09-19  Credit reporting, credit repair services, or o...   \n",
       "2    2019-10-25  Credit reporting, credit repair services, or o...   \n",
       "3    2019-11-08                                    Debt collection   \n",
       "4    2019-02-08                              Vehicle loan or lease   \n",
       "\n",
       "        Sub-product                                              Issue  \\\n",
       "0     I do not know                  Attempts to collect debt not owed   \n",
       "1  Credit reporting               Incorrect information on your report   \n",
       "2  Credit reporting               Incorrect information on your report   \n",
       "3     I do not know                              Communication tactics   \n",
       "4             Lease  Problem with a credit reporting company's inve...   \n",
       "\n",
       "                                           Sub-issue  \\\n",
       "0                                  Debt is not yours   \n",
       "1                Information belongs to someone else   \n",
       "2                Information belongs to someone else   \n",
       "3                         Frequent or repeated calls   \n",
       "4  Their investigation did not fix an error on yo...   \n",
       "\n",
       "                        Consumer complaint narrative  \\\n",
       "0  transworld systems inc. \\nis trying to collect...   \n",
       "1                                                NaN   \n",
       "2  I would like to request the suppression of the...   \n",
       "3  Over the past 2 weeks, I have been receiving e...   \n",
       "4                                                NaN   \n",
       "\n",
       "                             Company public response  \\\n",
       "0                                                NaN   \n",
       "1  Company has responded to the consumer and the ...   \n",
       "2  Company has responded to the consumer and the ...   \n",
       "3                                                NaN   \n",
       "4                                                NaN   \n",
       "\n",
       "                                  Company State ZIP code Tags  \\\n",
       "0                  TRANSWORLD SYSTEMS INC    FL    335XX  NaN   \n",
       "1     Experian Information Solutions Inc.    PA    15206  NaN   \n",
       "2  TRANSUNION INTERMEDIATE HOLDINGS, INC.    CA    937XX  NaN   \n",
       "3           Diversified Consultants, Inc.    NC    275XX  NaN   \n",
       "4                 HYUNDAI CAPITAL AMERICA    FL    33161  NaN   \n",
       "\n",
       "  Consumer consent provided? Submitted via Date sent to company  \\\n",
       "0           Consent provided           Web           2019-09-24   \n",
       "1       Consent not provided           Web           2019-09-20   \n",
       "2           Consent provided           Web           2019-10-25   \n",
       "3           Consent provided           Web           2019-11-08   \n",
       "4       Consent not provided           Web           2019-02-08   \n",
       "\n",
       "      Company response to consumer Timely response? Consumer disputed?  \\\n",
       "0          Closed with explanation              Yes                NaN   \n",
       "1  Closed with non-monetary relief              Yes                NaN   \n",
       "2          Closed with explanation              Yes                NaN   \n",
       "3          Closed with explanation              Yes                NaN   \n",
       "4  Closed with non-monetary relief              Yes                NaN   \n",
       "\n",
       "   Complaint ID  \n",
       "0       3384392  \n",
       "1       3379500  \n",
       "2       3417821  \n",
       "3       3433198  \n",
       "4       3146310  "
      ]
     },
     "execution_count": 4,
     "metadata": {},
     "output_type": "execute_result"
    }
   ],
   "source": [
    "# Preview the first 5 instances.\n",
    "df.head()"
   ]
  },
  {
   "cell_type": "code",
   "execution_count": 5,
   "metadata": {},
   "outputs": [
    {
     "name": "stdout",
     "output_type": "stream",
     "text": [
      "<class 'pandas.core.frame.DataFrame'>\n",
      "RangeIndex: 1523040 entries, 0 to 1523039\n",
      "Data columns (total 18 columns):\n",
      "Date received                   1523040 non-null object\n",
      "Product                         1523040 non-null object\n",
      "Sub-product                     1287875 non-null object\n",
      "Issue                           1523040 non-null object\n",
      "Sub-issue                       962452 non-null object\n",
      "Consumer complaint narrative    501412 non-null object\n",
      "Company public response         574853 non-null object\n",
      "Company                         1523040 non-null object\n",
      "State                           1497351 non-null object\n",
      "ZIP code                        1379636 non-null object\n",
      "Tags                            207055 non-null object\n",
      "Consumer consent provided?      902220 non-null object\n",
      "Submitted via                   1523040 non-null object\n",
      "Date sent to company            1523040 non-null object\n",
      "Company response to consumer    1523039 non-null object\n",
      "Timely response?                1523040 non-null object\n",
      "Consumer disputed?              768478 non-null object\n",
      "Complaint ID                    1523040 non-null int64\n",
      "dtypes: int64(1), object(17)\n",
      "memory usage: 209.2+ MB\n"
     ]
    }
   ],
   "source": [
    "# Display the dimensions and data type of the train data.\n",
    "df.info()"
   ]
  },
  {
   "cell_type": "code",
   "execution_count": 6,
   "metadata": {},
   "outputs": [
    {
     "data": {
      "text/html": [
       "<div>\n",
       "<style scoped>\n",
       "    .dataframe tbody tr th:only-of-type {\n",
       "        vertical-align: middle;\n",
       "    }\n",
       "\n",
       "    .dataframe tbody tr th {\n",
       "        vertical-align: top;\n",
       "    }\n",
       "\n",
       "    .dataframe thead th {\n",
       "        text-align: right;\n",
       "    }\n",
       "</style>\n",
       "<table border=\"1\" class=\"dataframe\">\n",
       "  <thead>\n",
       "    <tr style=\"text-align: right;\">\n",
       "      <th></th>\n",
       "      <th>count</th>\n",
       "      <th>mean</th>\n",
       "      <th>std</th>\n",
       "      <th>min</th>\n",
       "      <th>25%</th>\n",
       "      <th>50%</th>\n",
       "      <th>75%</th>\n",
       "      <th>max</th>\n",
       "    </tr>\n",
       "  </thead>\n",
       "  <tbody>\n",
       "    <tr>\n",
       "      <th>Complaint ID</th>\n",
       "      <td>1523040.0</td>\n",
       "      <td>2.160499e+06</td>\n",
       "      <td>1.033462e+06</td>\n",
       "      <td>1.0</td>\n",
       "      <td>1326203.75</td>\n",
       "      <td>2430408.5</td>\n",
       "      <td>3040612.25</td>\n",
       "      <td>3557522.0</td>\n",
       "    </tr>\n",
       "  </tbody>\n",
       "</table>\n",
       "</div>"
      ],
      "text/plain": [
       "                  count          mean           std  min         25%  \\\n",
       "Complaint ID  1523040.0  2.160499e+06  1.033462e+06  1.0  1326203.75   \n",
       "\n",
       "                    50%         75%        max  \n",
       "Complaint ID  2430408.5  3040612.25  3557522.0  "
      ]
     },
     "execution_count": 6,
     "metadata": {},
     "output_type": "execute_result"
    }
   ],
   "source": [
    "# Return the statistics for all numeric variables.\n",
    "df.describe().T"
   ]
  },
  {
   "cell_type": "markdown",
   "metadata": {},
   "source": [
    "## 3. Exploratory Data Analysis (EDA)"
   ]
  },
  {
   "cell_type": "markdown",
   "metadata": {},
   "source": [
    "For this project, we need only two columns — “Product” and “Consumer complaint narrative”. "
   ]
  },
  {
   "cell_type": "markdown",
   "metadata": {},
   "source": [
    "We will remove missing values in “Consumer complaints narrative” column, and add a column encoding the product as an integer because categorical variables are often better represented by integers than strings."
   ]
  },
  {
   "cell_type": "code",
   "execution_count": 7,
   "metadata": {},
   "outputs": [],
   "source": [
    "df = df[['Product', 'Consumer complaint narrative']]                                              # only keep two columns\n",
    "df.dropna(subset=['Consumer complaint narrative'], inplace=True)                                  # drop nan rows\n",
    "df.rename(columns={'Consumer complaint narrative':'Consumer_complaint_narrative'}, inplace=True)  # rename column name"
   ]
  },
  {
   "cell_type": "code",
   "execution_count": 8,
   "metadata": {},
   "outputs": [
    {
     "data": {
      "text/html": [
       "<div>\n",
       "<style scoped>\n",
       "    .dataframe tbody tr th:only-of-type {\n",
       "        vertical-align: middle;\n",
       "    }\n",
       "\n",
       "    .dataframe tbody tr th {\n",
       "        vertical-align: top;\n",
       "    }\n",
       "\n",
       "    .dataframe thead th {\n",
       "        text-align: right;\n",
       "    }\n",
       "</style>\n",
       "<table border=\"1\" class=\"dataframe\">\n",
       "  <thead>\n",
       "    <tr style=\"text-align: right;\">\n",
       "      <th></th>\n",
       "      <th>Product</th>\n",
       "      <th>Consumer_complaint_narrative</th>\n",
       "      <th>category_id</th>\n",
       "    </tr>\n",
       "  </thead>\n",
       "  <tbody>\n",
       "    <tr>\n",
       "      <th>0</th>\n",
       "      <td>Debt collection</td>\n",
       "      <td>transworld systems inc. \\nis trying to collect...</td>\n",
       "      <td>0</td>\n",
       "    </tr>\n",
       "    <tr>\n",
       "      <th>2</th>\n",
       "      <td>Credit reporting, credit repair services, or o...</td>\n",
       "      <td>I would like to request the suppression of the...</td>\n",
       "      <td>1</td>\n",
       "    </tr>\n",
       "    <tr>\n",
       "      <th>3</th>\n",
       "      <td>Debt collection</td>\n",
       "      <td>Over the past 2 weeks, I have been receiving e...</td>\n",
       "      <td>0</td>\n",
       "    </tr>\n",
       "    <tr>\n",
       "      <th>10</th>\n",
       "      <td>Money transfer, virtual currency, or money ser...</td>\n",
       "      <td>I was sold access to an event digitally, of wh...</td>\n",
       "      <td>2</td>\n",
       "    </tr>\n",
       "    <tr>\n",
       "      <th>11</th>\n",
       "      <td>Debt collection</td>\n",
       "      <td>While checking my credit report I noticed thre...</td>\n",
       "      <td>0</td>\n",
       "    </tr>\n",
       "  </tbody>\n",
       "</table>\n",
       "</div>"
      ],
      "text/plain": [
       "                                              Product  \\\n",
       "0                                     Debt collection   \n",
       "2   Credit reporting, credit repair services, or o...   \n",
       "3                                     Debt collection   \n",
       "10  Money transfer, virtual currency, or money ser...   \n",
       "11                                    Debt collection   \n",
       "\n",
       "                         Consumer_complaint_narrative  category_id  \n",
       "0   transworld systems inc. \\nis trying to collect...            0  \n",
       "2   I would like to request the suppression of the...            1  \n",
       "3   Over the past 2 weeks, I have been receiving e...            0  \n",
       "10  I was sold access to an event digitally, of wh...            2  \n",
       "11  While checking my credit report I noticed thre...            0  "
      ]
     },
     "execution_count": 8,
     "metadata": {},
     "output_type": "execute_result"
    }
   ],
   "source": [
    "codes, uniques = pd.factorize(df['Product'])  # Encode the string as an enumerated type\n",
    "df['category_id'] = codes                     # Add new column\n",
    "category_id_df = df[['Product', 'category_id']].drop_duplicates().sort_values('category_id')  \n",
    "category_to_id = dict(category_id_df.values)\n",
    "id_to_category = dict(category_id_df[['category_id', 'Product']].values)\n",
    "df.head()"
   ]
  },
  {
   "cell_type": "code",
   "execution_count": 9,
   "metadata": {},
   "outputs": [
    {
     "data": {
      "image/png": "[encoded data removed]",
      "text/plain": [
       "<Figure size 576x432 with 1 Axes>"
      ]
     },
     "metadata": {
      "needs_background": "light"
     },
     "output_type": "display_data"
    }
   ],
   "source": [
    "fig = plt.figure(figsize=(8,6))\n",
    "df.groupby('Product').Consumer_complaint_narrative.count().plot.bar(ylim=0)\n",
    "plt.show()"
   ]
  },
  {
   "cell_type": "markdown",
   "metadata": {},
   "source": [
    "We see that the number of complaints per product is imbalanced. Consumers’ complaints are more biased towards Debt collection, Credit reporting and Mortgage."
   ]
  },
  {
   "cell_type": "markdown",
   "metadata": {},
   "source": [
    "When we encounter such problems, we are bound to have difficulties solving them with standard algorithms. Conventional algorithms are often biased towards the majority class, not taking the data distribution into consideration. In the worst case, minority classes are treated as outliers and ignored. For some cases, such as fraud detection or cancer prediction, we would need to carefully configure our model or artificially balance the dataset, for example by [undersampling or oversampling](https://en.wikipedia.org/wiki/Oversampling_and_undersampling_in_data_analysis) each class."
   ]
  },
  {
   "cell_type": "markdown",
   "metadata": {},
   "source": [
    "However, in our case of learning imbalanced data, the majority classes might be of our great interest. It is desirable to have a classifier that gives high prediction accuracy over the majority class, while maintaining reasonable accuracy for the minority classes. Therefore, we will leave it as it is."
   ]
  },
  {
   "cell_type": "markdown",
   "metadata": {},
   "source": [
    "## 4. Feature Engineering"
   ]
  },
  {
   "cell_type": "markdown",
   "metadata": {},
   "source": [
    "The classifiers and learning algorithms can not directly process the text documents in their original form, as most of them expect numerical feature vectors with a fixed size rather than the raw text documents with variable length. Therefore, during the preprocessing step, the texts are converted to a more manageable representation."
   ]
  },
  {
   "cell_type": "markdown",
   "metadata": {},
   "source": [
    "One common approach for extracting features from text is to use the bag of words model: a model where for each document, a complaint narrative in our case, the presence (and often the frequency) of words is taken into consideration, but the order in which they occur is ignored.\n"
   ]
  },
  {
   "cell_type": "markdown",
   "metadata": {},
   "source": [
    "### 4.1 Extract Features via TF-IDF"
   ]
  },
  {
   "cell_type": "markdown",
   "metadata": {},
   "source": [
    "Specifically, for each term in our dataset, we will calculate a measure called Term Frequency, Inverse Document Frequency, abbreviated to tf-idf. We will use `sklearn.feature_extraction.text.TfidfVectorizer` to calculate a tf-idf vector for each of consumer complaint narratives:"
   ]
  },
  {
   "cell_type": "code",
   "execution_count": 11,
   "metadata": {},
   "outputs": [
    {
     "name": "stdout",
     "output_type": "stream",
     "text": [
      "(501412, 881075)\n"
     ]
    }
   ],
   "source": [
    "# sublinear_df is set to True to use a logarithmic form for frequency.\n",
    "# min_df is the minimum numbers of documents a word must be present in to be kept.\n",
    "# norm is set to l2, to ensure all our feature vectors have a euclidian norm of 1.\n",
    "# ngram_range is set to (1, 2) to indicate that we want to consider both unigrams and bigrams.\n",
    "# stop_words is set to \"english\" to remove all common pronouns (\"a\", \"the\", ...) to reduce the number of noisy features.\n",
    "tfidf = TfidfVectorizer(sublinear_tf=True, \n",
    "                        min_df=5, \n",
    "                        norm='l2', \n",
    "                        encoding='latin-1', \n",
    "                        ngram_range=(1, 2), \n",
    "                        stop_words='english')\n",
    "\n",
    "features = tfidf.fit_transform(df.Consumer_complaint_narrative)\n",
    "labels = df.category_id\n",
    "\n",
    "print(features.shape)"
   ]
  },
  {
   "cell_type": "markdown",
   "metadata": {},
   "source": [
    "Now, each of 501412 consumer complaint narratives is represented by 881075 features, representing the tf-idf score for different unigrams and bigrams."
   ]
  },
  {
   "cell_type": "markdown",
   "metadata": {},
   "source": [
    "### 4.2 Find the most correlated feature for each product"
   ]
  },
  {
   "cell_type": "markdown",
   "metadata": {},
   "source": [
    "We can use `sklearn.feature_selection.chi2` to find the terms that are the most correlated with each of the products:"
   ]
  },
  {
   "cell_type": "code",
   "execution_count": 14,
   "metadata": {
    "collapsed": true
   },
   "outputs": [
    {
     "name": "stdout",
     "output_type": "stream",
     "text": [
      "# 'Bank account or service':\n",
      "  . Most correlated unigrams:\n",
      "       . bank\n",
      "       . overdraft\n",
      "  . Most correlated bigrams:\n",
      "       . overdraft fees\n",
      "       . checking account\n",
      "# 'Checking or savings account':\n",
      "  . Most correlated unigrams:\n",
      "       . overdraft\n",
      "       . deposit\n",
      "  . Most correlated bigrams:\n",
      "       . savings account\n",
      "       . checking account\n",
      "# 'Consumer Loan':\n",
      "  . Most correlated unigrams:\n",
      "       . car\n",
      "       . vehicle\n",
      "  . Most correlated bigrams:\n",
      "       . chrysler capital\n",
      "       . auto loan\n",
      "# 'Credit card':\n",
      "  . Most correlated unigrams:\n",
      "       . macy\n",
      "       . card\n",
      "  . Most correlated bigrams:\n",
      "       . american express\n",
      "       . credit card\n",
      "# 'Credit card or prepaid card':\n",
      "  . Most correlated unigrams:\n",
      "       . express\n",
      "       . card\n",
      "  . Most correlated bigrams:\n",
      "       . american express\n",
      "       . credit card\n",
      "# 'Credit reporting':\n",
      "  . Most correlated unigrams:\n",
      "       . experian\n",
      "       . equifax\n",
      "  . Most correlated bigrams:\n",
      "       . manner soon\n",
      "       . disputed resolve\n",
      "# 'Credit reporting, credit repair services, or other personal consumer reports':\n",
      "  . Most correlated unigrams:\n",
      "       . equifax\n",
      "       . report\n",
      "  . Most correlated bigrams:\n",
      "       . identity theft\n",
      "       . credit report\n",
      "# 'Debt collection':\n",
      "  . Most correlated unigrams:\n",
      "       . collection\n",
      "       . debt\n",
      "  . Most correlated bigrams:\n",
      "       . collection agency\n",
      "       . collect debt\n",
      "# 'Money transfer, virtual currency, or money service':\n",
      "  . Most correlated unigrams:\n",
      "       . paypal\n",
      "       . coinbase\n",
      "  . Most correlated bigrams:\n",
      "       . xxxx coinbase\n",
      "       . coinbase account\n",
      "# 'Money transfers':\n",
      "  . Most correlated unigrams:\n",
      "       . moneygram\n",
      "       . western\n",
      "  . Most correlated bigrams:\n",
      "       . money gram\n",
      "       . western union\n",
      "# 'Mortgage':\n",
      "  . Most correlated unigrams:\n",
      "       . modification\n",
      "       . mortgage\n",
      "  . Most correlated bigrams:\n",
      "       . mortgage company\n",
      "       . loan modification\n",
      "# 'Other financial service':\n",
      "  . Most correlated unigrams:\n",
      "       . fedloanhelp\n",
      "       . lexington\n",
      "  . Most correlated bigrams:\n",
      "       . global client\n",
      "       . lexington law\n",
      "# 'Payday loan':\n",
      "  . Most correlated unigrams:\n",
      "       . castle\n",
      "       . payday\n",
      "  . Most correlated bigrams:\n",
      "       . castle payday\n",
      "       . payday loan\n",
      "# 'Payday loan, title loan, or personal loan':\n",
      "  . Most correlated unigrams:\n",
      "       . borrowed\n",
      "       . payday\n",
      "  . Most correlated bigrams:\n",
      "       . title loan\n",
      "       . 00 loan\n",
      "# 'Prepaid card':\n",
      "  . Most correlated unigrams:\n",
      "       . rush\n",
      "       . rushcard\n",
      "  . Most correlated bigrams:\n",
      "       . prepaid card\n",
      "       . rush card\n",
      "# 'Student loan':\n",
      "  . Most correlated unigrams:\n",
      "       . loans\n",
      "       . navient\n",
      "  . Most correlated bigrams:\n",
      "       . student loans\n",
      "       . student loan\n",
      "# 'Vehicle loan or lease':\n",
      "  . Most correlated unigrams:\n",
      "       . vehicle\n",
      "       . car\n",
      "  . Most correlated bigrams:\n",
      "       . credit acceptance\n",
      "       . gm financial\n",
      "# 'Virtual currency':\n",
      "  . Most correlated unigrams:\n",
      "       . fincen\n",
      "       . signup\n",
      "  . Most correlated bigrams:\n",
      "       . met fully\n",
      "       . signed 75\n"
     ]
    }
   ],
   "source": [
    "N = 2\n",
    "for Product, category_id in sorted(category_to_id.items()):\n",
    "    features_chi2 = chi2(features, labels==category_id)\n",
    "    indices = np.argsort(features_chi2[0])\n",
    "    feature_names = np.array(tfidf.get_feature_names())[indices]\n",
    "    unigrams = [v for v in feature_names if len(v.split(' ')) == 1]\n",
    "    bigrams = [v for v in feature_names if len(v.split(' ')) == 2]\n",
    "    print(\"# '{}':\".format(Product))\n",
    "    print(\"  . Most correlated unigrams:\\n       . {}\".format('\\n       . '.join(unigrams[-N:])))\n",
    "    print(\"  . Most correlated bigrams:\\n       . {}\".format('\\n       . '.join(bigrams[-N:])))"
   ]
  },
  {
   "cell_type": "markdown",
   "metadata": {},
   "source": [
    "## 5. Define the model"
   ]
  },
  {
   "cell_type": "markdown",
   "metadata": {},
   "source": [
    "We are now ready to experiment with different machine learning models, evaluate their accuracy and find the source of any potential issues.  \n",
    "\n",
    "We will benchmark the following four models:  \n",
    "\n",
    "- Logistic Regression\n",
    "- (Multinomial) Naive Bayes\n",
    "- Linear Support Vector Machine\n",
    "- Random Forest"
   ]
  },
  {
   "cell_type": "code",
   "execution_count": 17,
   "metadata": {},
   "outputs": [],
   "source": [
    "models = [\n",
    "    RandomForestClassifier(n_estimators=200, max_depth=1, random_state=0),\n",
    "    LinearSVC(),\n",
    "    MultinomialNB(),\n",
    "    LogisticRegression(random_state=0)\n",
    "]"
   ]
  },
  {
   "cell_type": "code",
   "execution_count": null,
   "metadata": {},
   "outputs": [],
   "source": [
    "CV = 5\n",
    "cv_df = pd.DataFrame(index=range(CV * len(models))) # 4*5=20 rows\n",
    "entries = []\n",
    "for model in models:\n",
    "    model_name = model.__class__.__name__\n",
    "    accuracies = cross_val_score(model, features, labels, scoring='accuracy', cv=CV) # Evaluate a score by cross-validation\n",
    "    for fold_idx, accuracy in enumerate(accuracies):\n",
    "        entries.append((model_name, fold_idx, accuracy))\n",
    "cv_df = pd.DataFrame(entries, columns=['model_name', 'fold_idx', 'accuracy'])\n",
    "cv_df.head()"
   ]
  },
  {
   "cell_type": "code",
   "execution_count": null,
   "metadata": {},
   "outputs": [],
   "source": [
    "cv_df.groupby('model_name').accuracy.mean() # Calculate the average accuracy for each model"
   ]
  },
  {
   "cell_type": "code",
   "execution_count": null,
   "metadata": {},
   "outputs": [],
   "source": [
    "sns.boxplot(x='model_name', y='accuracy', data=cv_df)\n",
    "sns.stripplot(x='model_name', y='accuracy', data=cv_df, \n",
    "              size=8, jitter=True, edgecolor=\"gray\", linewidth=2)\n",
    "plt.show()"
   ]
  },
  {
   "cell_type": "markdown",
   "metadata": {},
   "source": [
    "LinearSVC and Logistic Regression perform better than the other two classifiers, with LinearSVC having a slight advantage with a median accuracy of around 82%."
   ]
  },
  {
   "cell_type": "markdown",
   "metadata": {},
   "source": [
    "## 6. Evaluate the model"
   ]
  },
  {
   "cell_type": "markdown",
   "metadata": {},
   "source": [
    "Continue with our best model (LinearSVC), we are going to look at the confusion matrix, and show the discrepancies between predicted and actual labels."
   ]
  },
  {
   "cell_type": "code",
   "execution_count": null,
   "metadata": {},
   "outputs": [],
   "source": [
    "model = LinearSVC()\n",
    "\n",
    "X_train, X_test, y_train, y_test, indices_train, indices_test = train_test_split(features, labels, df.index, test_size=0.33, random_state=0)\n",
    "model.fit(X_train, y_train)\n",
    "y_pred = model.predict(X_test)"
   ]
  },
  {
   "cell_type": "markdown",
   "metadata": {},
   "source": [
    "The vast majority of the predictions end up on the diagonal (predicted label = actual label), where we want them to be. However, there are a number of misclassifications, and it might be interesting to see what those are caused by:"
   ]
  },
  {
   "cell_type": "code",
   "execution_count": null,
   "metadata": {},
   "outputs": [],
   "source": [
    "conf_mat = confusion_matrix(y_test, y_pred)\n",
    "fig, ax = plt.subplots(figsize=(10,8))\n",
    "sns.heatmap(conf_mat, annot=True, fmt='d',\n",
    "            xticklabels=category_id_df.Product.values, yticklabels=category_id_df.Product.values)\n",
    "plt.ylabel('Actual')\n",
    "plt.xlabel('Predicted')\n",
    "plt.show()"
   ]
  },
  {
   "cell_type": "markdown",
   "metadata": {},
   "source": [
    "As you can see, some of the misclassified complaints are complaints that touch on more than one subjects (for example, complaints involving both credit card and credit report). This sort of errors will always happen."
   ]
  },
  {
   "cell_type": "markdown",
   "metadata": {},
   "source": [
    "Again, we use the chi-squared test to find the terms that are the most correlated with each of the categories:"
   ]
  },
  {
   "cell_type": "code",
   "execution_count": null,
   "metadata": {},
   "outputs": [],
   "source": [
    "N = 2\n",
    "for Product, category_id in sorted(category_to_id.items()):\n",
    "    indices = np.argsort(model.coef_[category_id])\n",
    "    feature_names = np.array(tfidf.get_feature_names())[indices]\n",
    "    unigrams = [v for v in reversed(feature_names) if len(v.split(' ')) == 1][:N]\n",
    "    bigrams = [v for v in reversed(feature_names) if len(v.split(' ')) == 2][:N]\n",
    "    print(\"# '{}':\".format(Product))\n",
    "    print(\"  . Top unigrams:\\n       . {}\".format('\\n       . '.join(unigrams)))\n",
    "    print(\"  . Top bigrams:\\n       . {}\".format('\\n       . '.join(bigrams)))"
   ]
  },
  {
   "cell_type": "markdown",
   "metadata": {},
   "source": [
    "They are consistent within our expectation."
   ]
  },
  {
   "cell_type": "markdown",
   "metadata": {},
   "source": [
    "Finally, we print out the classification report for each class:"
   ]
  },
  {
   "cell_type": "code",
   "execution_count": null,
   "metadata": {},
   "outputs": [],
   "source": [
    "print(metrics.classification_report(y_test, y_pred, target_names=df['Product'].unique()))"
   ]
  },
  {
   "cell_type": "code",
   "execution_count": null,
   "metadata": {},
   "outputs": [],
   "source": []
  }
 ],
 "metadata": {
  "kernelspec": {
   "display_name": "Python 3",
   "language": "python",
   "name": "python3"
  },
  "language_info": {
   "codemirror_mode": {
    "name": "ipython",
    "version": 3
   },
   "file_extension": ".py",
   "mimetype": "text/x-python",
   "name": "python",
   "nbconvert_exporter": "python",
   "pygments_lexer": "ipython3",
   "version": "3.7.3"
  }
 },
 "nbformat": 4,
 "nbformat_minor": 2
}
